{
 "cells": [
  {
   "cell_type": "code",
   "execution_count": 267,
   "metadata": {},
   "outputs": [],
   "source": [
    "import matplotlib.pyplot as plt\n",
    "import matplotlib.gridspec as gs\n",
    "import numpy as np\n",
    "import pandas as pd\n",
    "import seaborn as sns\n",
    "import pickle\n",
    "import joblib\n",
    "from sklearn.svm import SVC\n",
    "import shap"
   ]
  },
  {
   "cell_type": "code",
   "execution_count": 268,
   "metadata": {},
   "outputs": [],
   "source": [
    "df = pd.read_csv(\"CleanedColumn.csv\", delimiter=\",\")"
   ]
  },
  {
   "cell_type": "code",
   "execution_count": 269,
   "metadata": {},
   "outputs": [
    {
     "data": {
      "text/plain": [
       "229835"
      ]
     },
     "execution_count": 269,
     "metadata": {},
     "output_type": "execute_result"
    }
   ],
   "source": [
    "len(df)"
   ]
  },
  {
   "cell_type": "code",
   "execution_count": 270,
   "metadata": {},
   "outputs": [
    {
     "data": {
      "text/plain": [
       "Index(['idart', 'idrt', 'weight_final', 'PSU', 'STRATA', 'province', 'gender',\n",
       "       'age', 'education', 'work_status', 'injured_past_year', 'head_injury',\n",
       "       'chest_injury', 'back_injury', 'stomach_injury', 'upper_body_injury',\n",
       "       'lower_body_injury', 'bruises', 'cuts', 'sprains', 'broken_bones',\n",
       "       'severed_limbs', 'eye_injury', 'brain_damage', 'internal_damage',\n",
       "       'burns', 'other', 'impaired', 'missing_body_parts', 'permanent_injury',\n",
       "       'place_of_injury', 'emotional_mental_health_disorder', 'weight_normal',\n",
       "       'filter_$', 'time', 'has_injury'],\n",
       "      dtype='object')"
      ]
     },
     "execution_count": 270,
     "metadata": {},
     "output_type": "execute_result"
    }
   ],
   "source": [
    "df.columns"
   ]
  },
  {
   "cell_type": "code",
   "execution_count": 271,
   "metadata": {},
   "outputs": [],
   "source": [
    "df.drop(columns=['idart','idrt','weight_final','weight_normal','PSU','STRATA','province','time','filter_$'], inplace=True)"
   ]
  },
  {
   "cell_type": "code",
   "execution_count": 272,
   "metadata": {},
   "outputs": [
    {
     "data": {
      "text/plain": [
       "Index(['gender', 'age', 'education', 'work_status', 'injured_past_year',\n",
       "       'head_injury', 'chest_injury', 'back_injury', 'stomach_injury',\n",
       "       'upper_body_injury', 'lower_body_injury', 'bruises', 'cuts', 'sprains',\n",
       "       'broken_bones', 'severed_limbs', 'eye_injury', 'brain_damage',\n",
       "       'internal_damage', 'burns', 'other', 'impaired', 'missing_body_parts',\n",
       "       'permanent_injury', 'place_of_injury',\n",
       "       'emotional_mental_health_disorder', 'has_injury'],\n",
       "      dtype='object')"
      ]
     },
     "execution_count": 272,
     "metadata": {},
     "output_type": "execute_result"
    }
   ],
   "source": [
    "df.columns"
   ]
  },
  {
   "cell_type": "code",
   "execution_count": 273,
   "metadata": {},
   "outputs": [],
   "source": [
    "injury_cols = [\n",
    "    \"head_injury\", \n",
    "    \"chest_injury\", \n",
    "    \"back_injury\", \n",
    "    \"stomach_injury\", \n",
    "    \"upper_body_injury\", \n",
    "    \"lower_body_injury\", \n",
    "    \"bruises\", \n",
    "    \"cuts\", \n",
    "    \"sprains\", \n",
    "    \"broken_bones\", \n",
    "    \"severed_limbs\", \n",
    "    \"eye_injury\", \n",
    "    \"brain_damage\", \n",
    "    \"internal_damage\", \n",
    "    \"burns\", \n",
    "    \"other\"\n",
    "]\n",
    "\n",
    "df['total_injuries'] = df[injury_cols].gt(0).sum(axis=1)"
   ]
  },
  {
   "cell_type": "code",
   "execution_count": 274,
   "metadata": {},
   "outputs": [],
   "source": [
    "severity_weights = {\n",
    "    'head_injury': 5,          # Very severe\n",
    "    'chest_injury': 4,         # Severe\n",
    "    'back_injury': 3,          # Moderate\n",
    "    'stomach_injury': 3,       # Moderate\n",
    "    'upper_body_injury': 2,    # Mild\n",
    "    'lower_body_injury': 2,    # Mild\n",
    "    'bruises': 1,              # Minor\n",
    "    'cuts': 1,                 # Minor\n",
    "    'sprains': 2,              # Mild\n",
    "    'broken_bones': 4,         # Severe\n",
    "    'severed_limbs': 5,        # Very severe\n",
    "    'eye_injury': 4,           # Severe\n",
    "    'brain_damage': 5,         # Very severe\n",
    "    'internal_damage': 5,      # Very severe\n",
    "    'burns': 4,                # Severe\n",
    "    'other': 1                 # Minor\n",
    "}\n",
    "df['weighted_injury_severity'] = df[severity_weights.keys()].mul(severity_weights.values()).sum(axis=1)"
   ]
  },
  {
   "cell_type": "code",
   "execution_count": 275,
   "metadata": {},
   "outputs": [],
   "source": [
    "df['total_injury_severity'] = df[['head_injury', 'chest_injury', 'back_injury', 'stomach_injury',\n",
    "                                  'upper_body_injury', 'lower_body_injury', 'bruises', 'cuts', \n",
    "                                  'sprains', 'broken_bones', 'severed_limbs', 'eye_injury', \n",
    "                                  'brain_damage', 'internal_damage', 'burns', 'other']].sum(axis=1)"
   ]
  },
  {
   "cell_type": "code",
   "execution_count": 276,
   "metadata": {},
   "outputs": [],
   "source": [
    "df['injured_body_parts_count'] = df[['head_injury', 'chest_injury', 'back_injury', 'stomach_injury',\n",
    "                                     'upper_body_injury', 'lower_body_injury', 'bruises', 'cuts', \n",
    "                                     'sprains', 'broken_bones', 'severed_limbs', 'eye_injury', \n",
    "                                     'brain_damage', 'internal_damage', 'burns', 'other']].gt(0).sum(axis=1)"
   ]
  },
  {
   "cell_type": "code",
   "execution_count": 277,
   "metadata": {},
   "outputs": [],
   "source": [
    "df['has_injury'] = df[['head_injury', 'chest_injury', 'back_injury', 'stomach_injury',\n",
    "                                     'upper_body_injury', 'lower_body_injury', 'bruises', 'cuts', \n",
    "                                     'sprains', 'broken_bones', 'severed_limbs', 'eye_injury', \n",
    "                                     'brain_damage', 'internal_damage', 'burns', 'other']].gt(0).any(axis=1).astype(int)"
   ]
  },
  {
   "cell_type": "code",
   "execution_count": 278,
   "metadata": {},
   "outputs": [],
   "source": [
    "df['severe_injuries_count'] = df[['head_injury', 'chest_injury', 'back_injury', 'stomach_injury',\n",
    "                                  'upper_body_injury', 'lower_body_injury', 'bruises', 'cuts', \n",
    "                                  'sprains', 'broken_bones', 'severed_limbs', 'eye_injury', \n",
    "                                  'brain_damage', 'internal_damage', 'burns', 'other']].eq(2).sum(axis=1)"
   ]
  },
  {
   "cell_type": "code",
   "execution_count": 279,
   "metadata": {},
   "outputs": [],
   "source": [
    "injury_columns = [\n",
    "    'head_injury', \n",
    "    'chest_injury', \n",
    "    'back_injury', \n",
    "    'stomach_injury', \n",
    "    'upper_body_injury', \n",
    "    'lower_body_injury', \n",
    "    'bruises', \n",
    "    'cuts', \n",
    "    'sprains', \n",
    "    'broken_bones', \n",
    "    'severed_limbs', \n",
    "    'eye_injury', \n",
    "    'brain_damage', \n",
    "    'internal_damage', \n",
    "    'burns', \n",
    "    'other'\n",
    "]\n",
    "\n"
   ]
  },
  {
   "cell_type": "code",
   "execution_count": 280,
   "metadata": {},
   "outputs": [
    {
     "data": {
      "text/plain": [
       "dtype('int64')"
      ]
     },
     "execution_count": 280,
     "metadata": {},
     "output_type": "execute_result"
    }
   ],
   "source": [
    "df['injured_past_year'].dtypes"
   ]
  },
  {
   "cell_type": "code",
   "execution_count": null,
   "metadata": {},
   "outputs": [
    {
     "name": "stdout",
     "output_type": "stream",
     "text": [
      "        gender  age  education  work_status  injured_past_year  head_injury  \\\n",
      "0            1   52          3            7                  2            0   \n",
      "1            2   24          5            1                  2            0   \n",
      "2            2   17          3            1                  2            0   \n",
      "3            1   32          4            5                  2            0   \n",
      "4            1   58          3            7                  2            0   \n",
      "...        ...  ...        ...          ...                ...          ...   \n",
      "229830       1   23          4            4                  1            2   \n",
      "229831       1   17          3            2                  1            2   \n",
      "229832       2   65          4            8                  1            2   \n",
      "229833       2   39          6            4                  1            2   \n",
      "229834       1   66          7            1                  1            2   \n",
      "\n",
      "        chest_injury  back_injury  stomach_injury  upper_body_injury  ...  \\\n",
      "0                  0            0               0                  0  ...   \n",
      "1                  0            0               0                  0  ...   \n",
      "2                  0            0               0                  0  ...   \n",
      "3                  0            0               0                  0  ...   \n",
      "4                  0            0               0                  0  ...   \n",
      "...              ...          ...             ...                ...  ...   \n",
      "229830             2            2               2                  1  ...   \n",
      "229831             2            2               2                  2  ...   \n",
      "229832             2            2               2                  1  ...   \n",
      "229833             2            2               2                  1  ...   \n",
      "229834             2            2               1                  2  ...   \n",
      "\n",
      "        permanent_injury  place_of_injury  emotional_mental_health_disorder  \\\n",
      "0                      0                0                                 1   \n",
      "1                      0                0                                 1   \n",
      "2                      0                0                                 1   \n",
      "3                      0                0                                 0   \n",
      "4                      0                0                                 0   \n",
      "...                  ...              ...                               ...   \n",
      "229830                 2                1                                 0   \n",
      "229831                 2                1                                 1   \n",
      "229832                 2                2                                 0   \n",
      "229833                 2                2                                 0   \n",
      "229834                 2                2                                 0   \n",
      "\n",
      "        has_injury  total_injuries  weighted_injury_severity  \\\n",
      "0                0               0                         0   \n",
      "1                0               0                         0   \n",
      "2                0               0                         0   \n",
      "3                0               0                         0   \n",
      "4                0               0                         0   \n",
      "...            ...             ...                       ...   \n",
      "229830           1              16                        98   \n",
      "229831           1              16                        97   \n",
      "229832           1              16                        99   \n",
      "229833           1              16                        99   \n",
      "229834           1              16                        95   \n",
      "\n",
      "        total_injury_severity  injured_body_parts_count  \\\n",
      "0                           0                         0   \n",
      "1                           0                         0   \n",
      "2                           0                         0   \n",
      "3                           0                         0   \n",
      "4                           0                         0   \n",
      "...                       ...                       ...   \n",
      "229830                     30                        16   \n",
      "229831                     29                        16   \n",
      "229832                     30                        16   \n",
      "229833                     30                        16   \n",
      "229834                     30                        16   \n",
      "\n",
      "        severe_injuries_count  blue_collar  \n",
      "0                           0            1  \n",
      "1                           0            0  \n",
      "2                           0            0  \n",
      "3                           0            0  \n",
      "4                           0            1  \n",
      "...                       ...          ...  \n",
      "229830                     14            0  \n",
      "229831                     13            0  \n",
      "229832                     14            1  \n",
      "229833                     14            0  \n",
      "229834                     14            0  \n",
      "\n",
      "[229835 rows x 33 columns]\n"
     ]
    }
   ],
   "source": [
    "blue_collar_jobs = [6, 7, 8]\n",
    "\n",
    "df['blue_collar'] = np.where(df['work_status'].isin(blue_collar_jobs), 1, 0)\n",
    "\n",
    "print(df)"
   ]
  },
  {
   "cell_type": "code",
   "execution_count": null,
   "metadata": {},
   "outputs": [],
   "source": []
  },
  {
   "cell_type": "code",
   "execution_count": 282,
   "metadata": {},
   "outputs": [],
   "source": [
    "# df = df.drop(df[df['injured_past_year'] == 2].index)\n",
    "# df = df.drop(df[df['age'] > 65].index)\n",
    "# df = df.drop(df[df['total_injury_severity'] < 26].index)\n",
    "# df = df.drop(df[df['severe_injuries_count'] < 10].index)\n",
    "# df = df.drop(df[df['severed_limbs'] == 0].index)\n",
    "# df = df.drop(df[df['back_injury'] <= 1].index)\n",
    "# df = df.drop(df[df['broken_bones'] <= 1].index)\n",
    "# df = df.drop(df[df['place_of_injury'].isin([0, 1])].index)\n",
    "# df = df.drop(df[df['education'] > 4].index)\n",
    "# df = df.drop(df[df['work_status'].isin([0, 1, 2, 7 ,8, 9])].index)\n",
    "# df_men = df.drop(df[df['gender'] == 2].index)\n",
    "# df = df.drop(df[df['gender'] == 1].index)"
   ]
  },
  {
   "cell_type": "code",
   "execution_count": 283,
   "metadata": {},
   "outputs": [
    {
     "data": {
      "text/plain": [
       "injured_past_year\n",
       "2    210173\n",
       "1     19662\n",
       "Name: count, dtype: int64"
      ]
     },
     "execution_count": 283,
     "metadata": {},
     "output_type": "execute_result"
    }
   ],
   "source": [
    "df['injured_past_year'].value_counts()"
   ]
  },
  {
   "cell_type": "code",
   "execution_count": 284,
   "metadata": {},
   "outputs": [],
   "source": [
    "# df['work_status'].value_counts()"
   ]
  },
  {
   "cell_type": "code",
   "execution_count": 285,
   "metadata": {},
   "outputs": [],
   "source": [
    "# df_0 = df[df['injured_past_year'] == 1]\n",
    "# df_1 = df[df['injured_past_year'] == 2]\n",
    "\n",
    "# df_0_sample = df_0.sample(n=1668)\n",
    "# df_1_sample = df_1.sample(n=1668)\n",
    "# df_mental = pd.concat([df_0_sample, df_1_sample])"
   ]
  },
  {
   "cell_type": "code",
   "execution_count": 286,
   "metadata": {},
   "outputs": [],
   "source": [
    "# df_0_m = df_men[df_men['has_injury'] == 1]\n",
    "# df_1_m = df_women[df_women['has_injury'] == 1]\n",
    "\n",
    "# df_0_sample_m = df_0_m.sample(n=8000)\n",
    "# df_1_sample_m = df_1_m.sample(n=8000)\n",
    "# df_mental_m = pd.concat([df_0_sample_m, df_1_sample_m])"
   ]
  },
  {
   "cell_type": "code",
   "execution_count": 287,
   "metadata": {},
   "outputs": [
    {
     "name": "stdout",
     "output_type": "stream",
     "text": [
      "emotional_mental_health_disorder    1.000000\n",
      "severed_limbs                       0.106764\n",
      "total_injuries                      0.106635\n",
      "has_injury                          0.106635\n",
      "injured_body_parts_count            0.106635\n",
      "injured_past_year                   0.106635\n",
      "missing_body_parts                  0.106557\n",
      "brain_damage                        0.106553\n",
      "eye_injury                          0.106546\n",
      "burns                               0.106473\n",
      "impaired                            0.106383\n",
      "chest_injury                        0.106035\n",
      "weighted_injury_severity            0.105892\n",
      "broken_bones                        0.105699\n",
      "total_injury_severity               0.105596\n",
      "internal_damage                     0.105519\n",
      "other                               0.105399\n",
      "stomach_injury                      0.104996\n",
      "cuts                                0.104854\n",
      "head_injury                         0.104584\n",
      "severe_injuries_count               0.104227\n",
      "back_injury                         0.103732\n",
      "permanent_injury                    0.103304\n",
      "upper_body_injury                   0.100893\n",
      "lower_body_injury                   0.097727\n",
      "bruises                             0.097391\n",
      "sprains                             0.095358\n",
      "place_of_injury                     0.090818\n",
      "education                           0.073158\n",
      "gender                              0.069168\n",
      "work_status                         0.043090\n",
      "age                                 0.015781\n",
      "blue_collar                         0.013030\n",
      "Name: emotional_mental_health_disorder, dtype: float64\n"
     ]
    }
   ],
   "source": [
    "corr_matrix = df.corr()\n",
    "low_corr_features = corr_matrix['emotional_mental_health_disorder'].abs().sort_values(ascending=False)\n",
    "print(low_corr_features.head(40))\n",
    "weak_features = low_corr_features[low_corr_features < 0.01].index\n",
    "df.drop(columns=weak_features, inplace=True)"
   ]
  },
  {
   "cell_type": "code",
   "execution_count": 288,
   "metadata": {},
   "outputs": [
    {
     "data": {
      "text/plain": [
       "Index(['gender', 'age', 'education', 'work_status', 'injured_past_year',\n",
       "       'head_injury', 'chest_injury', 'back_injury', 'stomach_injury',\n",
       "       'upper_body_injury', 'lower_body_injury', 'bruises', 'cuts', 'sprains',\n",
       "       'broken_bones', 'severed_limbs', 'eye_injury', 'brain_damage',\n",
       "       'internal_damage', 'burns', 'other', 'impaired', 'missing_body_parts',\n",
       "       'permanent_injury', 'place_of_injury',\n",
       "       'emotional_mental_health_disorder', 'has_injury', 'total_injuries',\n",
       "       'weighted_injury_severity', 'total_injury_severity',\n",
       "       'injured_body_parts_count', 'severe_injuries_count', 'blue_collar'],\n",
       "      dtype='object')"
      ]
     },
     "execution_count": 288,
     "metadata": {},
     "output_type": "execute_result"
    }
   ],
   "source": [
    "df.columns"
   ]
  },
  {
   "cell_type": "code",
   "execution_count": 289,
   "metadata": {},
   "outputs": [],
   "source": [
    "# df_mental"
   ]
  },
  {
   "cell_type": "code",
   "execution_count": 290,
   "metadata": {},
   "outputs": [],
   "source": [
    "df.to_csv(\"dataFinal.csv\", index=False)"
   ]
  },
  {
   "cell_type": "code",
   "execution_count": null,
   "metadata": {},
   "outputs": [],
   "source": []
  }
 ],
 "metadata": {
  "kernelspec": {
   "display_name": "Python 3",
   "language": "python",
   "name": "python3"
  },
  "language_info": {
   "codemirror_mode": {
    "name": "ipython",
    "version": 3
   },
   "file_extension": ".py",
   "mimetype": "text/x-python",
   "name": "python",
   "nbconvert_exporter": "python",
   "pygments_lexer": "ipython3",
   "version": "3.11.4"
  }
 },
 "nbformat": 4,
 "nbformat_minor": 2
}
