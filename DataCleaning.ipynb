{
 "cells": [
  {
   "cell_type": "code",
   "execution_count": 479,
   "metadata": {},
   "outputs": [],
   "source": [
    "import matplotlib.pyplot as plt\n",
    "import matplotlib.gridspec as gs\n",
    "import numpy as np\n",
    "import pandas as pd\n",
    "import seaborn as sns\n",
    "import pickle\n",
    "import joblib\n",
    "from sklearn.svm import SVC\n"
   ]
  },
  {
   "cell_type": "code",
   "execution_count": 480,
   "metadata": {},
   "outputs": [],
   "source": [
    "df = pd.read_csv(\"CleanedColumn.csv\", delimiter=\",\")"
   ]
  },
  {
   "cell_type": "code",
   "execution_count": 481,
   "metadata": {},
   "outputs": [
    {
     "data": {
      "text/plain": [
       "Index(['idart', 'idrt', 'weight_final', 'PSU', 'STRATA', 'province', 'gender',\n",
       "       'age', 'education', 'work_status', 'injured_past_year', 'head_injury',\n",
       "       'chest_injury', 'back_injury', 'stomach_injury', 'upper_body_injury',\n",
       "       'lower_body_injury', 'bruises', 'cuts', 'sprains', 'broken_bones',\n",
       "       'severed_limbs', 'eye_injury', 'brain_damage', 'internal_damage',\n",
       "       'burns', 'other', 'impaired', 'missing_body_parts', 'permanent_injury',\n",
       "       'place_of_injury', 'emotional_mental_health_disorder', 'weight_normal',\n",
       "       'filter_$', 'time', 'has_injury'],\n",
       "      dtype='object')"
      ]
     },
     "execution_count": 481,
     "metadata": {},
     "output_type": "execute_result"
    }
   ],
   "source": [
    "df.columns"
   ]
  },
  {
   "cell_type": "code",
   "execution_count": 482,
   "metadata": {},
   "outputs": [],
   "source": [
    "df.drop(columns=['idart','idrt','weight_final','weight_normal','PSU','STRATA','province','time','filter_$'], inplace=True)"
   ]
  },
  {
   "cell_type": "code",
   "execution_count": 483,
   "metadata": {},
   "outputs": [
    {
     "data": {
      "text/plain": [
       "Index(['gender', 'age', 'education', 'work_status', 'injured_past_year',\n",
       "       'head_injury', 'chest_injury', 'back_injury', 'stomach_injury',\n",
       "       'upper_body_injury', 'lower_body_injury', 'bruises', 'cuts', 'sprains',\n",
       "       'broken_bones', 'severed_limbs', 'eye_injury', 'brain_damage',\n",
       "       'internal_damage', 'burns', 'other', 'impaired', 'missing_body_parts',\n",
       "       'permanent_injury', 'place_of_injury',\n",
       "       'emotional_mental_health_disorder', 'has_injury'],\n",
       "      dtype='object')"
      ]
     },
     "execution_count": 483,
     "metadata": {},
     "output_type": "execute_result"
    }
   ],
   "source": [
    "df.columns"
   ]
  },
  {
   "cell_type": "code",
   "execution_count": 484,
   "metadata": {},
   "outputs": [],
   "source": [
    "injury_cols = [\n",
    "    \"head_injury\", \n",
    "    \"chest_injury\", \n",
    "    \"back_injury\", \n",
    "    \"stomach_injury\", \n",
    "    \"upper_body_injury\", \n",
    "    \"lower_body_injury\", \n",
    "    \"bruises\", \n",
    "    \"cuts\", \n",
    "    \"sprains\", \n",
    "    \"broken_bones\", \n",
    "    \"severed_limbs\", \n",
    "    \"eye_injury\", \n",
    "    \"brain_damage\", \n",
    "    \"internal_damage\", \n",
    "    \"burns\", \n",
    "    \"other\"\n",
    "]\n",
    "\n",
    "df['total_injuries'] = df[injury_cols].gt(0).sum(axis=1)"
   ]
  },
  {
   "cell_type": "code",
   "execution_count": 485,
   "metadata": {},
   "outputs": [],
   "source": [
    "severity_weights = {\n",
    "    'head_injury': 5,          # Very severe\n",
    "    'chest_injury': 4,         # Severe\n",
    "    'back_injury': 3,          # Moderate\n",
    "    'stomach_injury': 3,       # Moderate\n",
    "    'upper_body_injury': 2,    # Mild\n",
    "    'lower_body_injury': 2,    # Mild\n",
    "    'bruises': 1,              # Minor\n",
    "    'cuts': 1,                 # Minor\n",
    "    'sprains': 2,              # Mild\n",
    "    'broken_bones': 4,         # Severe\n",
    "    'severed_limbs': 5,        # Very severe\n",
    "    'eye_injury': 4,           # Severe\n",
    "    'brain_damage': 5,         # Very severe\n",
    "    'internal_damage': 5,      # Very severe\n",
    "    'burns': 4,                # Severe\n",
    "    'other': 1                 # Minor\n",
    "}\n",
    "df['weighted_injury_severity'] = df[severity_weights.keys()].mul(severity_weights.values()).sum(axis=1)"
   ]
  },
  {
   "cell_type": "code",
   "execution_count": 486,
   "metadata": {},
   "outputs": [],
   "source": [
    "df['total_injury_severity'] = df[['head_injury', 'chest_injury', 'back_injury', 'stomach_injury',\n",
    "                                  'upper_body_injury', 'lower_body_injury', 'bruises', 'cuts', \n",
    "                                  'sprains', 'broken_bones', 'severed_limbs', 'eye_injury', \n",
    "                                  'brain_damage', 'internal_damage', 'burns', 'other']].sum(axis=1)"
   ]
  },
  {
   "cell_type": "code",
   "execution_count": 487,
   "metadata": {},
   "outputs": [],
   "source": [
    "df['injured_body_parts_count'] = df[['head_injury', 'chest_injury', 'back_injury', 'stomach_injury',\n",
    "                                     'upper_body_injury', 'lower_body_injury', 'bruises', 'cuts', \n",
    "                                     'sprains', 'broken_bones', 'severed_limbs', 'eye_injury', \n",
    "                                     'brain_damage', 'internal_damage', 'burns', 'other']].gt(0).sum(axis=1)"
   ]
  },
  {
   "cell_type": "code",
   "execution_count": 488,
   "metadata": {},
   "outputs": [],
   "source": [
    "df['severe_injuries_count'] = df[['head_injury', 'chest_injury', 'back_injury', 'stomach_injury',\n",
    "                                  'upper_body_injury', 'lower_body_injury', 'bruises', 'cuts', \n",
    "                                  'sprains', 'broken_bones', 'severed_limbs', 'eye_injury', \n",
    "                                  'brain_damage', 'internal_damage', 'burns', 'other']].eq(2).sum(axis=1)"
   ]
  },
  {
   "cell_type": "code",
   "execution_count": 489,
   "metadata": {},
   "outputs": [],
   "source": [
    "injury_columns = [\n",
    "    'head_injury', \n",
    "    'chest_injury', \n",
    "    'back_injury', \n",
    "    'stomach_injury', \n",
    "    'upper_body_injury', \n",
    "    'lower_body_injury', \n",
    "    'bruises', \n",
    "    'cuts', \n",
    "    'sprains', \n",
    "    'broken_bones', \n",
    "    'severed_limbs', \n",
    "    'eye_injury', \n",
    "    'brain_damage', \n",
    "    'internal_damage', \n",
    "    'burns', \n",
    "    'other'\n",
    "]\n",
    "\n"
   ]
  },
  {
   "cell_type": "code",
   "execution_count": 490,
   "metadata": {},
   "outputs": [
    {
     "data": {
      "text/plain": [
       "dtype('int64')"
      ]
     },
     "execution_count": 490,
     "metadata": {},
     "output_type": "execute_result"
    }
   ],
   "source": [
    "df['injured_past_year'].dtypes"
   ]
  },
  {
   "cell_type": "code",
   "execution_count": 491,
   "metadata": {},
   "outputs": [],
   "source": [
    "# df = df.drop(df[df['injured_past_year'] == 2].index)\n",
    "# # df = df.drop(df[df['age'] > 75].index)\n",
    "# df = df.drop(df[df['total_injury_severity'] < 26].index)\n",
    "# # df = df.drop(df[df['severe_injuries_count'] < 10].index)\n",
    "# # df = df.drop(df[~df['education'].between(2, 5)].index)\n"
   ]
  },
  {
   "cell_type": "code",
   "execution_count": null,
   "metadata": {},
   "outputs": [],
   "source": []
  },
  {
   "cell_type": "code",
   "execution_count": 492,
   "metadata": {},
   "outputs": [
    {
     "name": "stdout",
     "output_type": "stream",
     "text": [
      "emotional_mental_health_disorder    1.000000\n",
      "severed_limbs                       0.106764\n",
      "has_injury                          0.106635\n",
      "total_injuries                      0.106635\n",
      "injured_body_parts_count            0.106635\n",
      "injured_past_year                   0.106635\n",
      "missing_body_parts                  0.106557\n",
      "brain_damage                        0.106553\n",
      "eye_injury                          0.106546\n",
      "burns                               0.106473\n",
      "impaired                            0.106383\n",
      "chest_injury                        0.106035\n",
      "weighted_injury_severity            0.105892\n",
      "broken_bones                        0.105699\n",
      "total_injury_severity               0.105596\n",
      "internal_damage                     0.105519\n",
      "other                               0.105399\n",
      "stomach_injury                      0.104996\n",
      "cuts                                0.104854\n",
      "head_injury                         0.104584\n",
      "severe_injuries_count               0.104227\n",
      "back_injury                         0.103732\n",
      "permanent_injury                    0.103304\n",
      "upper_body_injury                   0.100893\n",
      "lower_body_injury                   0.097727\n",
      "bruises                             0.097391\n",
      "sprains                             0.095358\n",
      "place_of_injury                     0.090818\n",
      "education                           0.073158\n",
      "gender                              0.069168\n",
      "work_status                         0.043090\n",
      "age                                 0.015781\n",
      "Name: emotional_mental_health_disorder, dtype: float64\n"
     ]
    }
   ],
   "source": [
    "corr_matrix = df.corr()\n",
    "low_corr_features = corr_matrix['emotional_mental_health_disorder'].abs().sort_values(ascending=False)\n",
    "print(low_corr_features.head(40))\n",
    "weak_features = low_corr_features[low_corr_features < 0.01].index\n",
    "df.drop(columns=weak_features, inplace=True)"
   ]
  },
  {
   "cell_type": "code",
   "execution_count": 493,
   "metadata": {},
   "outputs": [
    {
     "data": {
      "text/plain": [
       "Index(['gender', 'age', 'education', 'work_status', 'injured_past_year',\n",
       "       'head_injury', 'chest_injury', 'back_injury', 'stomach_injury',\n",
       "       'upper_body_injury', 'lower_body_injury', 'bruises', 'cuts', 'sprains',\n",
       "       'broken_bones', 'severed_limbs', 'eye_injury', 'brain_damage',\n",
       "       'internal_damage', 'burns', 'other', 'impaired', 'missing_body_parts',\n",
       "       'permanent_injury', 'place_of_injury',\n",
       "       'emotional_mental_health_disorder', 'has_injury', 'total_injuries',\n",
       "       'weighted_injury_severity', 'total_injury_severity',\n",
       "       'injured_body_parts_count', 'severe_injuries_count'],\n",
       "      dtype='object')"
      ]
     },
     "execution_count": 493,
     "metadata": {},
     "output_type": "execute_result"
    }
   ],
   "source": [
    "df.columns"
   ]
  },
  {
   "cell_type": "code",
   "execution_count": 494,
   "metadata": {},
   "outputs": [],
   "source": [
    "df.to_csv(\"dataFinal.csv\", index=False)"
   ]
  }
 ],
 "metadata": {
  "kernelspec": {
   "display_name": "Python 3",
   "language": "python",
   "name": "python3"
  },
  "language_info": {
   "codemirror_mode": {
    "name": "ipython",
    "version": 3
   },
   "file_extension": ".py",
   "mimetype": "text/x-python",
   "name": "python",
   "nbconvert_exporter": "python",
   "pygments_lexer": "ipython3",
   "version": "3.11.4"
  }
 },
 "nbformat": 4,
 "nbformat_minor": 2
}
