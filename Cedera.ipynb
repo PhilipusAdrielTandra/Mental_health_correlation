{
 "cells": [
  {
   "cell_type": "code",
   "execution_count": 1067,
   "metadata": {},
   "outputs": [],
   "source": [
    "import matplotlib.pyplot as plt\n",
    "import matplotlib.gridspec as gs\n",
    "import numpy as np\n",
    "import pandas as pd\n",
    "import seaborn as sns\n",
    "from sklearn import metrics\n",
    "from sklearn.pipeline import Pipeline\n",
    "from sklearn.impute import SimpleImputer\n",
    "from sklearn.preprocessing import LabelEncoder\n",
    "from sklearn.neighbors import KNeighborsClassifier\n",
    "from sklearn.model_selection import train_test_split, GridSearchCV, RandomizedSearchCV\n",
    "from sklearn.ensemble import RandomForestClassifier, VotingClassifier\n",
    "from sklearn.linear_model import LogisticRegression\n",
    "from sklearn.neural_network import MLPClassifier\n",
    "from sklearn.decomposition import PCA \n",
    "from sklearn.preprocessing import StandardScaler\n",
    "from sklearn.metrics import accuracy_score, confusion_matrix, ConfusionMatrixDisplay, classification_report\n",
    "from xgboost import XGBClassifier\n",
    "from imblearn.over_sampling import SMOTE\n",
    "import pickle\n",
    "import joblib\n",
    "from sklearn.svm import SVC"
   ]
  },
  {
   "cell_type": "code",
   "execution_count": 1068,
   "metadata": {},
   "outputs": [
    {
     "name": "stdout",
     "output_type": "stream",
     "text": [
      "<class 'pandas.core.frame.DataFrame'>\n",
      "RangeIndex: 3212 entries, 0 to 3211\n",
      "Data columns (total 32 columns):\n",
      " #   Column                            Non-Null Count  Dtype\n",
      "---  ------                            --------------  -----\n",
      " 0   gender                            3212 non-null   int64\n",
      " 1   age                               3212 non-null   int64\n",
      " 2   education                         3212 non-null   int64\n",
      " 3   work_status                       3212 non-null   int64\n",
      " 4   injured_past_year                 3212 non-null   int64\n",
      " 5   head_injury                       3212 non-null   int64\n",
      " 6   chest_injury                      3212 non-null   int64\n",
      " 7   back_injury                       3212 non-null   int64\n",
      " 8   stomach_injury                    3212 non-null   int64\n",
      " 9   upper_body_injury                 3212 non-null   int64\n",
      " 10  lower_body_injury                 3212 non-null   int64\n",
      " 11  bruises                           3212 non-null   int64\n",
      " 12  cuts                              3212 non-null   int64\n",
      " 13  sprains                           3212 non-null   int64\n",
      " 14  broken_bones                      3212 non-null   int64\n",
      " 15  severed_limbs                     3212 non-null   int64\n",
      " 16  eye_injury                        3212 non-null   int64\n",
      " 17  brain_damage                      3212 non-null   int64\n",
      " 18  internal_damage                   3212 non-null   int64\n",
      " 19  burns                             3212 non-null   int64\n",
      " 20  other                             3212 non-null   int64\n",
      " 21  impaired                          3212 non-null   int64\n",
      " 22  missing_body_parts                3212 non-null   int64\n",
      " 23  permanent_injury                  3212 non-null   int64\n",
      " 24  place_of_injury                   3212 non-null   int64\n",
      " 25  emotional_mental_health_disorder  3212 non-null   int64\n",
      " 26  has_injury                        3212 non-null   int64\n",
      " 27  total_injuries                    3212 non-null   int64\n",
      " 28  weighted_injury_severity          3212 non-null   int64\n",
      " 29  total_injury_severity             3212 non-null   int64\n",
      " 30  injured_body_parts_count          3212 non-null   int64\n",
      " 31  severe_injuries_count             3212 non-null   int64\n",
      "dtypes: int64(32)\n",
      "memory usage: 803.1 KB\n"
     ]
    }
   ],
   "source": [
    "df = pd.read_csv(\"dataFinal.csv\", delimiter=\",\")\n",
    "df.info()"
   ]
  },
  {
   "cell_type": "code",
   "execution_count": 1069,
   "metadata": {},
   "outputs": [
    {
     "data": {
      "text/plain": [
       "emotional_mental_health_disorder\n",
       "0    2684\n",
       "1     528\n",
       "Name: count, dtype: int64"
      ]
     },
     "execution_count": 1069,
     "metadata": {},
     "output_type": "execute_result"
    }
   ],
   "source": [
    "df['emotional_mental_health_disorder'].value_counts()"
   ]
  },
  {
   "cell_type": "code",
   "execution_count": 1070,
   "metadata": {},
   "outputs": [],
   "source": [
    "df_0 = df[df['emotional_mental_health_disorder'] == 0]\n",
    "df_1 = df[df['emotional_mental_health_disorder'] == 1]\n",
    "\n",
    "df_0_sample = df_0.sample(n=528)\n",
    "df_1_sample = df_1.sample(n=528)"
   ]
  },
  {
   "cell_type": "code",
   "execution_count": 1071,
   "metadata": {},
   "outputs": [
    {
     "data": {
      "text/html": [
       "<div>\n",
       "<style scoped>\n",
       "    .dataframe tbody tr th:only-of-type {\n",
       "        vertical-align: middle;\n",
       "    }\n",
       "\n",
       "    .dataframe tbody tr th {\n",
       "        vertical-align: top;\n",
       "    }\n",
       "\n",
       "    .dataframe thead th {\n",
       "        text-align: right;\n",
       "    }\n",
       "</style>\n",
       "<table border=\"1\" class=\"dataframe\">\n",
       "  <thead>\n",
       "    <tr style=\"text-align: right;\">\n",
       "      <th></th>\n",
       "      <th>gender</th>\n",
       "      <th>age</th>\n",
       "      <th>education</th>\n",
       "      <th>work_status</th>\n",
       "      <th>injured_past_year</th>\n",
       "      <th>head_injury</th>\n",
       "      <th>chest_injury</th>\n",
       "      <th>back_injury</th>\n",
       "      <th>stomach_injury</th>\n",
       "      <th>upper_body_injury</th>\n",
       "      <th>...</th>\n",
       "      <th>missing_body_parts</th>\n",
       "      <th>permanent_injury</th>\n",
       "      <th>place_of_injury</th>\n",
       "      <th>emotional_mental_health_disorder</th>\n",
       "      <th>has_injury</th>\n",
       "      <th>total_injuries</th>\n",
       "      <th>weighted_injury_severity</th>\n",
       "      <th>total_injury_severity</th>\n",
       "      <th>injured_body_parts_count</th>\n",
       "      <th>severe_injuries_count</th>\n",
       "    </tr>\n",
       "  </thead>\n",
       "  <tbody>\n",
       "    <tr>\n",
       "      <th>0</th>\n",
       "      <td>2</td>\n",
       "      <td>36</td>\n",
       "      <td>4</td>\n",
       "      <td>6</td>\n",
       "      <td>1</td>\n",
       "      <td>2</td>\n",
       "      <td>2</td>\n",
       "      <td>2</td>\n",
       "      <td>2</td>\n",
       "      <td>1</td>\n",
       "      <td>...</td>\n",
       "      <td>2</td>\n",
       "      <td>2</td>\n",
       "      <td>5</td>\n",
       "      <td>0</td>\n",
       "      <td>1</td>\n",
       "      <td>16</td>\n",
       "      <td>97</td>\n",
       "      <td>29</td>\n",
       "      <td>16</td>\n",
       "      <td>13</td>\n",
       "    </tr>\n",
       "    <tr>\n",
       "      <th>1</th>\n",
       "      <td>2</td>\n",
       "      <td>46</td>\n",
       "      <td>2</td>\n",
       "      <td>8</td>\n",
       "      <td>2</td>\n",
       "      <td>0</td>\n",
       "      <td>0</td>\n",
       "      <td>0</td>\n",
       "      <td>0</td>\n",
       "      <td>0</td>\n",
       "      <td>...</td>\n",
       "      <td>0</td>\n",
       "      <td>0</td>\n",
       "      <td>0</td>\n",
       "      <td>1</td>\n",
       "      <td>0</td>\n",
       "      <td>0</td>\n",
       "      <td>0</td>\n",
       "      <td>0</td>\n",
       "      <td>0</td>\n",
       "      <td>0</td>\n",
       "    </tr>\n",
       "    <tr>\n",
       "      <th>2</th>\n",
       "      <td>2</td>\n",
       "      <td>58</td>\n",
       "      <td>3</td>\n",
       "      <td>8</td>\n",
       "      <td>1</td>\n",
       "      <td>2</td>\n",
       "      <td>2</td>\n",
       "      <td>1</td>\n",
       "      <td>2</td>\n",
       "      <td>2</td>\n",
       "      <td>...</td>\n",
       "      <td>2</td>\n",
       "      <td>2</td>\n",
       "      <td>4</td>\n",
       "      <td>1</td>\n",
       "      <td>1</td>\n",
       "      <td>16</td>\n",
       "      <td>98</td>\n",
       "      <td>30</td>\n",
       "      <td>16</td>\n",
       "      <td>14</td>\n",
       "    </tr>\n",
       "    <tr>\n",
       "      <th>3</th>\n",
       "      <td>2</td>\n",
       "      <td>50</td>\n",
       "      <td>2</td>\n",
       "      <td>6</td>\n",
       "      <td>1</td>\n",
       "      <td>2</td>\n",
       "      <td>2</td>\n",
       "      <td>2</td>\n",
       "      <td>2</td>\n",
       "      <td>2</td>\n",
       "      <td>...</td>\n",
       "      <td>2</td>\n",
       "      <td>2</td>\n",
       "      <td>2</td>\n",
       "      <td>1</td>\n",
       "      <td>1</td>\n",
       "      <td>16</td>\n",
       "      <td>99</td>\n",
       "      <td>30</td>\n",
       "      <td>16</td>\n",
       "      <td>14</td>\n",
       "    </tr>\n",
       "    <tr>\n",
       "      <th>4</th>\n",
       "      <td>2</td>\n",
       "      <td>39</td>\n",
       "      <td>5</td>\n",
       "      <td>8</td>\n",
       "      <td>2</td>\n",
       "      <td>0</td>\n",
       "      <td>0</td>\n",
       "      <td>0</td>\n",
       "      <td>0</td>\n",
       "      <td>0</td>\n",
       "      <td>...</td>\n",
       "      <td>0</td>\n",
       "      <td>0</td>\n",
       "      <td>0</td>\n",
       "      <td>0</td>\n",
       "      <td>0</td>\n",
       "      <td>0</td>\n",
       "      <td>0</td>\n",
       "      <td>0</td>\n",
       "      <td>0</td>\n",
       "      <td>0</td>\n",
       "    </tr>\n",
       "    <tr>\n",
       "      <th>...</th>\n",
       "      <td>...</td>\n",
       "      <td>...</td>\n",
       "      <td>...</td>\n",
       "      <td>...</td>\n",
       "      <td>...</td>\n",
       "      <td>...</td>\n",
       "      <td>...</td>\n",
       "      <td>...</td>\n",
       "      <td>...</td>\n",
       "      <td>...</td>\n",
       "      <td>...</td>\n",
       "      <td>...</td>\n",
       "      <td>...</td>\n",
       "      <td>...</td>\n",
       "      <td>...</td>\n",
       "      <td>...</td>\n",
       "      <td>...</td>\n",
       "      <td>...</td>\n",
       "      <td>...</td>\n",
       "      <td>...</td>\n",
       "      <td>...</td>\n",
       "    </tr>\n",
       "    <tr>\n",
       "      <th>1051</th>\n",
       "      <td>2</td>\n",
       "      <td>63</td>\n",
       "      <td>1</td>\n",
       "      <td>6</td>\n",
       "      <td>2</td>\n",
       "      <td>0</td>\n",
       "      <td>0</td>\n",
       "      <td>0</td>\n",
       "      <td>0</td>\n",
       "      <td>0</td>\n",
       "      <td>...</td>\n",
       "      <td>0</td>\n",
       "      <td>0</td>\n",
       "      <td>0</td>\n",
       "      <td>0</td>\n",
       "      <td>0</td>\n",
       "      <td>0</td>\n",
       "      <td>0</td>\n",
       "      <td>0</td>\n",
       "      <td>0</td>\n",
       "      <td>0</td>\n",
       "    </tr>\n",
       "    <tr>\n",
       "      <th>1052</th>\n",
       "      <td>2</td>\n",
       "      <td>66</td>\n",
       "      <td>1</td>\n",
       "      <td>6</td>\n",
       "      <td>1</td>\n",
       "      <td>2</td>\n",
       "      <td>2</td>\n",
       "      <td>2</td>\n",
       "      <td>2</td>\n",
       "      <td>2</td>\n",
       "      <td>...</td>\n",
       "      <td>2</td>\n",
       "      <td>2</td>\n",
       "      <td>5</td>\n",
       "      <td>0</td>\n",
       "      <td>1</td>\n",
       "      <td>16</td>\n",
       "      <td>98</td>\n",
       "      <td>30</td>\n",
       "      <td>16</td>\n",
       "      <td>14</td>\n",
       "    </tr>\n",
       "    <tr>\n",
       "      <th>1053</th>\n",
       "      <td>2</td>\n",
       "      <td>75</td>\n",
       "      <td>1</td>\n",
       "      <td>6</td>\n",
       "      <td>2</td>\n",
       "      <td>0</td>\n",
       "      <td>0</td>\n",
       "      <td>0</td>\n",
       "      <td>0</td>\n",
       "      <td>0</td>\n",
       "      <td>...</td>\n",
       "      <td>0</td>\n",
       "      <td>0</td>\n",
       "      <td>0</td>\n",
       "      <td>0</td>\n",
       "      <td>0</td>\n",
       "      <td>0</td>\n",
       "      <td>0</td>\n",
       "      <td>0</td>\n",
       "      <td>0</td>\n",
       "      <td>0</td>\n",
       "    </tr>\n",
       "    <tr>\n",
       "      <th>1054</th>\n",
       "      <td>2</td>\n",
       "      <td>51</td>\n",
       "      <td>3</td>\n",
       "      <td>6</td>\n",
       "      <td>1</td>\n",
       "      <td>2</td>\n",
       "      <td>2</td>\n",
       "      <td>2</td>\n",
       "      <td>2</td>\n",
       "      <td>2</td>\n",
       "      <td>...</td>\n",
       "      <td>2</td>\n",
       "      <td>2</td>\n",
       "      <td>5</td>\n",
       "      <td>1</td>\n",
       "      <td>1</td>\n",
       "      <td>16</td>\n",
       "      <td>97</td>\n",
       "      <td>29</td>\n",
       "      <td>16</td>\n",
       "      <td>13</td>\n",
       "    </tr>\n",
       "    <tr>\n",
       "      <th>1055</th>\n",
       "      <td>2</td>\n",
       "      <td>54</td>\n",
       "      <td>2</td>\n",
       "      <td>6</td>\n",
       "      <td>1</td>\n",
       "      <td>2</td>\n",
       "      <td>2</td>\n",
       "      <td>2</td>\n",
       "      <td>2</td>\n",
       "      <td>2</td>\n",
       "      <td>...</td>\n",
       "      <td>2</td>\n",
       "      <td>2</td>\n",
       "      <td>4</td>\n",
       "      <td>1</td>\n",
       "      <td>1</td>\n",
       "      <td>16</td>\n",
       "      <td>97</td>\n",
       "      <td>29</td>\n",
       "      <td>16</td>\n",
       "      <td>13</td>\n",
       "    </tr>\n",
       "  </tbody>\n",
       "</table>\n",
       "<p>1056 rows × 32 columns</p>\n",
       "</div>"
      ],
      "text/plain": [
       "      gender  age  education  work_status  injured_past_year  head_injury  \\\n",
       "0          2   36          4            6                  1            2   \n",
       "1          2   46          2            8                  2            0   \n",
       "2          2   58          3            8                  1            2   \n",
       "3          2   50          2            6                  1            2   \n",
       "4          2   39          5            8                  2            0   \n",
       "...      ...  ...        ...          ...                ...          ...   \n",
       "1051       2   63          1            6                  2            0   \n",
       "1052       2   66          1            6                  1            2   \n",
       "1053       2   75          1            6                  2            0   \n",
       "1054       2   51          3            6                  1            2   \n",
       "1055       2   54          2            6                  1            2   \n",
       "\n",
       "      chest_injury  back_injury  stomach_injury  upper_body_injury  ...  \\\n",
       "0                2            2               2                  1  ...   \n",
       "1                0            0               0                  0  ...   \n",
       "2                2            1               2                  2  ...   \n",
       "3                2            2               2                  2  ...   \n",
       "4                0            0               0                  0  ...   \n",
       "...            ...          ...             ...                ...  ...   \n",
       "1051             0            0               0                  0  ...   \n",
       "1052             2            2               2                  2  ...   \n",
       "1053             0            0               0                  0  ...   \n",
       "1054             2            2               2                  2  ...   \n",
       "1055             2            2               2                  2  ...   \n",
       "\n",
       "      missing_body_parts  permanent_injury  place_of_injury  \\\n",
       "0                      2                 2                5   \n",
       "1                      0                 0                0   \n",
       "2                      2                 2                4   \n",
       "3                      2                 2                2   \n",
       "4                      0                 0                0   \n",
       "...                  ...               ...              ...   \n",
       "1051                   0                 0                0   \n",
       "1052                   2                 2                5   \n",
       "1053                   0                 0                0   \n",
       "1054                   2                 2                5   \n",
       "1055                   2                 2                4   \n",
       "\n",
       "      emotional_mental_health_disorder  has_injury  total_injuries  \\\n",
       "0                                    0           1              16   \n",
       "1                                    1           0               0   \n",
       "2                                    1           1              16   \n",
       "3                                    1           1              16   \n",
       "4                                    0           0               0   \n",
       "...                                ...         ...             ...   \n",
       "1051                                 0           0               0   \n",
       "1052                                 0           1              16   \n",
       "1053                                 0           0               0   \n",
       "1054                                 1           1              16   \n",
       "1055                                 1           1              16   \n",
       "\n",
       "      weighted_injury_severity  total_injury_severity  \\\n",
       "0                           97                     29   \n",
       "1                            0                      0   \n",
       "2                           98                     30   \n",
       "3                           99                     30   \n",
       "4                            0                      0   \n",
       "...                        ...                    ...   \n",
       "1051                         0                      0   \n",
       "1052                        98                     30   \n",
       "1053                         0                      0   \n",
       "1054                        97                     29   \n",
       "1055                        97                     29   \n",
       "\n",
       "      injured_body_parts_count  severe_injuries_count  \n",
       "0                           16                     13  \n",
       "1                            0                      0  \n",
       "2                           16                     14  \n",
       "3                           16                     14  \n",
       "4                            0                      0  \n",
       "...                        ...                    ...  \n",
       "1051                         0                      0  \n",
       "1052                        16                     14  \n",
       "1053                         0                      0  \n",
       "1054                        16                     13  \n",
       "1055                        16                     13  \n",
       "\n",
       "[1056 rows x 32 columns]"
      ]
     },
     "execution_count": 1071,
     "metadata": {},
     "output_type": "execute_result"
    }
   ],
   "source": [
    "df_mental = pd.concat([df_0_sample, df_1_sample])\n",
    "\n",
    "df_mental.sample(frac=1, random_state=42).reset_index(drop=True)"
   ]
  },
  {
   "cell_type": "code",
   "execution_count": 1072,
   "metadata": {},
   "outputs": [
    {
     "data": {
      "text/plain": [
       "emotional_mental_health_disorder\n",
       "0    2684\n",
       "1     528\n",
       "Name: count, dtype: int64"
      ]
     },
     "execution_count": 1072,
     "metadata": {},
     "output_type": "execute_result"
    }
   ],
   "source": [
    "df['emotional_mental_health_disorder'].value_counts()"
   ]
  },
  {
   "cell_type": "code",
   "execution_count": 1073,
   "metadata": {},
   "outputs": [],
   "source": [
    "X = df_mental.drop(['emotional_mental_health_disorder'], axis=1).values\n",
    "y = df_mental['emotional_mental_health_disorder'].values\n",
    "\n",
    "X_train, X_test, y_train, y_test = train_test_split(X, y, test_size=0.3, random_state=42)\n",
    "\n",
    "scaler = StandardScaler()\n",
    "X_train_scaled = scaler.fit_transform(X_train)\n",
    "X_test_scaled = scaler.transform(X_test)\n",
    "\n",
    "smote = SMOTE(random_state=42)\n",
    "X_train_resampled, y_train_resampled = smote.fit_resample(X_train_scaled, y_train)\n",
    "\n",
    "pca = PCA(n_components=0.95)\n",
    "X_train_pca = pca.fit_transform(X_train_resampled)\n",
    "X_test_pca = pca.transform(X_test_scaled)"
   ]
  },
  {
   "cell_type": "code",
   "execution_count": 1074,
   "metadata": {},
   "outputs": [
    {
     "name": "stdout",
     "output_type": "stream",
     "text": [
      "RF Accuracy: 59.94% (Best Params: {'max_depth': 10, 'min_samples_split': 5, 'n_estimators': 200})\n",
      "              precision    recall  f1-score   support\n",
      "\n",
      "           0       0.63      0.57      0.60       166\n",
      "           1       0.57      0.64      0.60       151\n",
      "\n",
      "    accuracy                           0.60       317\n",
      "   macro avg       0.60      0.60      0.60       317\n",
      "weighted avg       0.60      0.60      0.60       317\n",
      "\n"
     ]
    }
   ],
   "source": [
    "param_grid = {'n_estimators': [50, 100, 200], 'max_depth': [None, 10, 20], 'min_samples_split': [2, 5]}\n",
    "grid_search = GridSearchCV(RandomForestClassifier(), param_grid, cv=5, scoring='accuracy', n_jobs=-1)\n",
    "grid_search.fit(X_train_pca, y_train_resampled)\n",
    "rf_model = grid_search.best_estimator_\n",
    "rf_pred = rf_model.predict(X_test_pca)\n",
    "rf_acc = accuracy_score(y_test, rf_pred) * 100\n",
    "print(f\"RF Accuracy: {rf_acc:.2f}% (Best Params: {grid_search.best_params_})\")\n",
    "print(classification_report(y_test, rf_pred))"
   ]
  },
  {
   "cell_type": "code",
   "execution_count": 1075,
   "metadata": {},
   "outputs": [
    {
     "name": "stdout",
     "output_type": "stream",
     "text": [
      "XGBoost Accuracy: 67.19% (Best Params: {'learning_rate': 0.01, 'max_depth': 3, 'n_estimators': 50})\n",
      "              precision    recall  f1-score   support\n",
      "\n",
      "           0       0.72      0.62      0.66       166\n",
      "           1       0.64      0.73      0.68       151\n",
      "\n",
      "    accuracy                           0.67       317\n",
      "   macro avg       0.68      0.67      0.67       317\n",
      "weighted avg       0.68      0.67      0.67       317\n",
      "\n"
     ]
    },
    {
     "name": "stderr",
     "output_type": "stream",
     "text": [
      "c:\\Users\\phili\\AppData\\Local\\Programs\\Python\\Python311\\Lib\\site-packages\\xgboost\\core.py:158: UserWarning: [11:42:49] WARNING: C:\\buildkite-agent\\builds\\buildkite-windows-cpu-autoscaling-group-i-08cbc0333d8d4aae1-1\\xgboost\\xgboost-ci-windows\\src\\learner.cc:740: \n",
      "Parameters: { \"use_label_encoder\" } are not used.\n",
      "\n",
      "  warnings.warn(smsg, UserWarning)\n"
     ]
    }
   ],
   "source": [
    "param_grid = {'n_estimators': [50, 100, 200], 'learning_rate': [0.01, 0.1, 0.2], 'max_depth': [3, 6, 9]}\n",
    "grid_search = GridSearchCV(XGBClassifier(use_label_encoder=False, eval_metric='logloss'), param_grid, cv=5, scoring='accuracy', n_jobs=-1)\n",
    "grid_search.fit(X_train_pca, y_train_resampled)\n",
    "xgb_model = grid_search.best_estimator_\n",
    "xgb_pred = xgb_model.predict(X_test_pca)\n",
    "xgb_acc = accuracy_score(y_test, xgb_pred) * 100\n",
    "print(f\"XGBoost Accuracy: {xgb_acc:.2f}% (Best Params: {grid_search.best_params_})\")\n",
    "print(classification_report(y_test, xgb_pred))"
   ]
  },
  {
   "cell_type": "code",
   "execution_count": 1076,
   "metadata": {},
   "outputs": [
    {
     "name": "stdout",
     "output_type": "stream",
     "text": [
      "Logistic Regression Accuracy: 66.25% (Best Params: {'C': 0.1, 'solver': 'lbfgs'})\n",
      "              precision    recall  f1-score   support\n",
      "\n",
      "           0       0.69      0.64      0.66       166\n",
      "           1       0.63      0.69      0.66       151\n",
      "\n",
      "    accuracy                           0.66       317\n",
      "   macro avg       0.66      0.66      0.66       317\n",
      "weighted avg       0.66      0.66      0.66       317\n",
      "\n"
     ]
    }
   ],
   "source": [
    "param_grid = {'C': [0.1, 1, 10], 'solver': ['lbfgs', 'liblinear']}\n",
    "grid_search = GridSearchCV(LogisticRegression(), param_grid, cv=5, scoring='accuracy', n_jobs=-1)\n",
    "grid_search.fit(X_train_pca, y_train_resampled)\n",
    "lr_model = grid_search.best_estimator_\n",
    "lr_pred = lr_model.predict(X_test_pca)\n",
    "lr_acc = accuracy_score(y_test, lr_pred) * 100\n",
    "print(f\"Logistic Regression Accuracy: {lr_acc:.2f}% (Best Params: {grid_search.best_params_})\")\n",
    "print(classification_report(y_test, lr_pred))"
   ]
  },
  {
   "cell_type": "code",
   "execution_count": 1077,
   "metadata": {},
   "outputs": [
    {
     "name": "stdout",
     "output_type": "stream",
     "text": [
      "MLP Accuracy: 66.88% (Best Params: {'activation': 'relu', 'alpha': 0.001, 'hidden_layer_sizes': (50,), 'solver': 'sgd'})\n",
      "              precision    recall  f1-score   support\n",
      "\n",
      "           0       0.71      0.63      0.66       166\n",
      "           1       0.64      0.72      0.67       151\n",
      "\n",
      "    accuracy                           0.67       317\n",
      "   macro avg       0.67      0.67      0.67       317\n",
      "weighted avg       0.67      0.67      0.67       317\n",
      "\n"
     ]
    }
   ],
   "source": [
    "param_grid = {\n",
    "    'hidden_layer_sizes': [(50,), (100,), (50, 50)],\n",
    "    'activation': ['relu', 'tanh'],\n",
    "    'solver': ['adam', 'sgd'],\n",
    "    'alpha': [0.0001, 0.001, 0.01]\n",
    "}\n",
    "grid_search = GridSearchCV(MLPClassifier(max_iter=500), param_grid, cv=5, scoring='accuracy', n_jobs=-1)\n",
    "grid_search.fit(X_train_pca, y_train_resampled)\n",
    "mlp_model = grid_search.best_estimator_\n",
    "mlp_pred = mlp_model.predict(X_test_pca)\n",
    "mlp_acc = accuracy_score(y_test, mlp_pred) * 100\n",
    "print(f\"MLP Accuracy: {mlp_acc:.2f}% (Best Params: {grid_search.best_params_})\")\n",
    "print(classification_report(y_test, mlp_pred))"
   ]
  },
  {
   "cell_type": "code",
   "execution_count": 1078,
   "metadata": {},
   "outputs": [
    {
     "name": "stdout",
     "output_type": "stream",
     "text": [
      "SVM Accuracy: 66.88% (Best Params: {'C': 0.1, 'gamma': 'scale', 'kernel': 'linear'})\n",
      "              precision    recall  f1-score   support\n",
      "\n",
      "           0       0.71      0.63      0.66       166\n",
      "           1       0.64      0.72      0.67       151\n",
      "\n",
      "    accuracy                           0.67       317\n",
      "   macro avg       0.67      0.67      0.67       317\n",
      "weighted avg       0.67      0.67      0.67       317\n",
      "\n"
     ]
    }
   ],
   "source": [
    "param_grid = {\n",
    "    'C': [0.1, 1, 10, 100],\n",
    "    'kernel': ['linear', 'rbf', 'poly'],\n",
    "    'gamma': ['scale', 'auto']\n",
    "}\n",
    "grid_search = GridSearchCV(SVC(), param_grid, cv=5, scoring='accuracy', n_jobs=-1)\n",
    "grid_search.fit(X_train_pca, y_train_resampled)\n",
    "svm_model = grid_search.best_estimator_\n",
    "svm_pred = svm_model.predict(X_test_pca)\n",
    "svm_acc = accuracy_score(y_test, svm_pred) * 100\n",
    "print(f\"SVM Accuracy: {svm_acc:.2f}% (Best Params: {grid_search.best_params_})\")\n",
    "print(classification_report(y_test, svm_pred))"
   ]
  },
  {
   "cell_type": "code",
   "execution_count": 1079,
   "metadata": {},
   "outputs": [
    {
     "name": "stdout",
     "output_type": "stream",
     "text": [
      "KNN Accuracy: 58.04% (Best Params: {'metric': 'manhattan', 'n_neighbors': 5, 'weights': 'uniform'})\n",
      "              precision    recall  f1-score   support\n",
      "\n",
      "           0       0.60      0.59      0.60       166\n",
      "           1       0.56      0.57      0.56       151\n",
      "\n",
      "    accuracy                           0.58       317\n",
      "   macro avg       0.58      0.58      0.58       317\n",
      "weighted avg       0.58      0.58      0.58       317\n",
      "\n"
     ]
    }
   ],
   "source": [
    "param_grid = {\n",
    "    'n_neighbors': [3, 5, 7, 9],\n",
    "    'weights': ['uniform', 'distance'],\n",
    "    'metric': ['euclidean', 'manhattan']\n",
    "}\n",
    "grid_search = GridSearchCV(KNeighborsClassifier(), param_grid, cv=5, scoring='accuracy', n_jobs=-1)\n",
    "grid_search.fit(X_train_pca, y_train_resampled)\n",
    "knn_model = grid_search.best_estimator_\n",
    "knn_pred = knn_model.predict(X_test_pca)\n",
    "knn_acc = accuracy_score(y_test, knn_pred) * 100\n",
    "print(f\"KNN Accuracy: {knn_acc:.2f}% (Best Params: {grid_search.best_params_})\")\n",
    "print(classification_report(y_test, knn_pred))"
   ]
  },
  {
   "cell_type": "code",
   "execution_count": 1080,
   "metadata": {},
   "outputs": [
    {
     "name": "stdout",
     "output_type": "stream",
     "text": [
      "Accuracy Scores:\n",
      "Logistic Regression: 66.25\n",
      "XGBoost: 67.19\n",
      "Random Forest: 59.94\n",
      "Neural Network: 66.88\n",
      "SVM: 66.88\n",
      "k-NN: 58.04\n"
     ]
    }
   ],
   "source": [
    "print(f\"Accuracy Scores:\\nLogistic Regression: {lr_acc:.2f}\\nXGBoost: {xgb_acc:.2f}\\nRandom Forest: {rf_acc:.2f}\\nNeural Network: {mlp_acc:.2f}\\nSVM: {svm_acc:.2f}\\nk-NN: {knn_acc:.2f}\")"
   ]
  },
  {
   "cell_type": "code",
   "execution_count": 1081,
   "metadata": {},
   "outputs": [
    {
     "name": "stdout",
     "output_type": "stream",
     "text": [
      "59.94 67.19 66.25 66.88 66.88 58.04\n"
     ]
    }
   ],
   "source": [
    "print(f\"{rf_acc:.2f} {xgb_acc:.2f} {lr_acc:.2f} {mlp_acc:.2f} {svm_acc:.2f} {knn_acc:.2f}\")"
   ]
  },
  {
   "cell_type": "code",
   "execution_count": 1082,
   "metadata": {},
   "outputs": [],
   "source": [
    "# def pickleModel(model, filename):\n",
    "#     pickle.dump(model, open(filename, 'wb'))\n",
    "\n",
    "# pickleModel(rf_model, 'models/RF.pkl')\n",
    "# pickleModel(xgb_model, 'models/XGB.pkl')\n",
    "# pickleModel(lr_model, 'models/LR.pkl')\n",
    "# pickleModel(mlp_model, 'models/NN.pkl')\n",
    "# pickleModel(svm_model, 'models/SVM.pkl')\n",
    "# pickleModel(knn_model, 'models/KNN.pkl')"
   ]
  },
  {
   "cell_type": "code",
   "execution_count": 1083,
   "metadata": {},
   "outputs": [
    {
     "data": {
      "image/png": "[encoded data removed]",
      "text/plain": [
       "<Figure size 640x480 with 2 Axes>"
      ]
     },
     "metadata": {},
     "output_type": "display_data"
    },
    {
     "data": {
      "image/png": "[encoded data removed]",
      "text/plain": [
       "<Figure size 640x480 with 2 Axes>"
      ]
     },
     "metadata": {},
     "output_type": "display_data"
    },
    {
     "data": {
      "image/png": "[encoded data removed]",
      "text/plain": [
       "<Figure size 640x480 with 2 Axes>"
      ]
     },
     "metadata": {},
     "output_type": "display_data"
    },
    {
     "data": {
      "image/png": "[encoded data removed]",
      "text/plain": [
       "<Figure size 640x480 with 2 Axes>"
      ]
     },
     "metadata": {},
     "output_type": "display_data"
    },
    {
     "data": {
      "image/png": "[encoded data removed]",
      "text/plain": [
       "<Figure size 640x480 with 2 Axes>"
      ]
     },
     "metadata": {},
     "output_type": "display_data"
    },
    {
     "data": {
      "image/png": "[encoded data removed]",
      "text/plain": [
       "<Figure size 640x480 with 2 Axes>"
      ]
     },
     "metadata": {},
     "output_type": "display_data"
    }
   ],
   "source": [
    "def plot_confusion_matrix(y_test, y_pred, model_name):\n",
    "    cm = confusion_matrix(y_test, y_pred)\n",
    "    disp = ConfusionMatrixDisplay(confusion_matrix=cm)\n",
    "    disp.plot(cmap='Blues')\n",
    "    plt.title(f\"Confusion Matrix - {model_name}\")\n",
    "    plt.show()\n",
    "\n",
    "plot_confusion_matrix(y_test, rf_pred, \"Random Forest\")\n",
    "plot_confusion_matrix(y_test, xgb_pred, \"XGBoost\")\n",
    "plot_confusion_matrix(y_test, lr_pred, \"Logistic Regression\")\n",
    "plot_confusion_matrix(y_test, mlp_pred, \"Neural Network\")\n",
    "plot_confusion_matrix(y_test, svm_pred, \"SVM\")\n",
    "plot_confusion_matrix(y_test, knn_pred, \"k-NN\")"
   ]
  },
  {
   "cell_type": "code",
   "execution_count": 1084,
   "metadata": {},
   "outputs": [],
   "source": [
    "\n",
    "# top_5_features = feature_importances.nlargest(5, \"Importance\")[\"Feature\"]\n",
    "\n",
    "# fig, axes = plt.subplots(nrows=1, ncols=5, figsize=(20, 6), sharey=True)\n",
    "\n",
    "# for i, feature in enumerate(top_5_features):\n",
    "#     grouped_df = df.groupby(feature)[target_variable].value_counts(normalize=True).unstack()\n",
    "    \n",
    "#     grouped_df.plot(kind='bar', stacked=True, ax=axes[i], colormap=\"coolwarm\", alpha=0.85)\n",
    "    \n",
    "#     axes[i].set_title(feature)\n",
    "#     axes[i].set_xlabel(\"\")\n",
    "#     axes[i].set_ylabel(\"Proportion\")\n",
    "#     axes[i].legend(title=\"Emotional Mental Health Disorder\", labels=[\"0 (No)\", \"1 (Yes)\"])\n",
    "\n",
    "# plt.tight_layout()\n",
    "# plt.show()\n",
    "\n"
   ]
  }
 ],
 "metadata": {
  "kernelspec": {
   "display_name": "Python 3",
   "language": "python",
   "name": "python3"
  },
  "language_info": {
   "codemirror_mode": {
    "name": "ipython",
    "version": 3
   },
   "file_extension": ".py",
   "mimetype": "text/x-python",
   "name": "python",
   "nbconvert_exporter": "python",
   "pygments_lexer": "ipython3",
   "version": "3.11.4"
  }
 },
 "nbformat": 4,
 "nbformat_minor": 2
}
