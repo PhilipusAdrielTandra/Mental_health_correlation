{
 "cells": [
  {
   "cell_type": "code",
   "execution_count": 644,
   "metadata": {},
   "outputs": [],
   "source": [
    "import matplotlib.pyplot as plt\n",
    "import matplotlib.gridspec as gs\n",
    "import numpy as np\n",
    "import pandas as pd\n",
    "import seaborn as sns\n",
    "from sklearn import metrics\n",
    "from sklearn.pipeline import Pipeline\n",
    "from sklearn.impute import SimpleImputer\n",
    "from sklearn.preprocessing import LabelEncoder\n",
    "from sklearn.neighbors import KNeighborsClassifier\n",
    "from sklearn.model_selection import train_test_split, GridSearchCV, RandomizedSearchCV\n",
    "from sklearn.ensemble import RandomForestClassifier, VotingClassifier\n",
    "from sklearn.linear_model import LogisticRegression\n",
    "from sklearn.neural_network import MLPClassifier\n",
    "from sklearn.decomposition import PCA \n",
    "from sklearn.preprocessing import StandardScaler\n",
    "from sklearn.metrics import accuracy_score, confusion_matrix, ConfusionMatrixDisplay, classification_report\n",
    "from xgboost import XGBClassifier\n",
    "from imblearn.over_sampling import SMOTE\n",
    "import pickle\n",
    "import joblib\n",
    "from sklearn.svm import SVC"
   ]
  },
  {
   "cell_type": "code",
   "execution_count": 645,
   "metadata": {},
   "outputs": [
    {
     "name": "stdout",
     "output_type": "stream",
     "text": [
      "<class 'pandas.core.frame.DataFrame'>\n",
      "RangeIndex: 19569 entries, 0 to 19568\n",
      "Data columns (total 32 columns):\n",
      " #   Column                            Non-Null Count  Dtype\n",
      "---  ------                            --------------  -----\n",
      " 0   gender                            19569 non-null  int64\n",
      " 1   age                               19569 non-null  int64\n",
      " 2   education                         19569 non-null  int64\n",
      " 3   work_status                       19569 non-null  int64\n",
      " 4   injured_past_year                 19569 non-null  int64\n",
      " 5   head_injury                       19569 non-null  int64\n",
      " 6   chest_injury                      19569 non-null  int64\n",
      " 7   back_injury                       19569 non-null  int64\n",
      " 8   stomach_injury                    19569 non-null  int64\n",
      " 9   upper_body_injury                 19569 non-null  int64\n",
      " 10  lower_body_injury                 19569 non-null  int64\n",
      " 11  bruises                           19569 non-null  int64\n",
      " 12  cuts                              19569 non-null  int64\n",
      " 13  sprains                           19569 non-null  int64\n",
      " 14  broken_bones                      19569 non-null  int64\n",
      " 15  severed_limbs                     19569 non-null  int64\n",
      " 16  eye_injury                        19569 non-null  int64\n",
      " 17  brain_damage                      19569 non-null  int64\n",
      " 18  internal_damage                   19569 non-null  int64\n",
      " 19  burns                             19569 non-null  int64\n",
      " 20  other                             19569 non-null  int64\n",
      " 21  impaired                          19569 non-null  int64\n",
      " 22  missing_body_parts                19569 non-null  int64\n",
      " 23  permanent_injury                  19569 non-null  int64\n",
      " 24  place_of_injury                   19569 non-null  int64\n",
      " 25  emotional_mental_health_disorder  19569 non-null  int64\n",
      " 26  has_injury                        19569 non-null  int64\n",
      " 27  total_injuries                    19569 non-null  int64\n",
      " 28  weighted_injury_severity          19569 non-null  int64\n",
      " 29  total_injury_severity             19569 non-null  int64\n",
      " 30  injured_body_parts_count          19569 non-null  int64\n",
      " 31  severe_injuries_count             19569 non-null  int64\n",
      "dtypes: int64(32)\n",
      "memory usage: 4.8 MB\n"
     ]
    }
   ],
   "source": [
    "df = pd.read_csv(\"dataFinal.csv\", delimiter=\",\")\n",
    "df.info()"
   ]
  },
  {
   "cell_type": "code",
   "execution_count": 646,
   "metadata": {},
   "outputs": [
    {
     "data": {
      "text/plain": [
       "emotional_mental_health_disorder\n",
       "0    15875\n",
       "1     3694\n",
       "Name: count, dtype: int64"
      ]
     },
     "execution_count": 646,
     "metadata": {},
     "output_type": "execute_result"
    }
   ],
   "source": [
    "df['emotional_mental_health_disorder'].value_counts()"
   ]
  },
  {
   "cell_type": "code",
   "execution_count": 647,
   "metadata": {},
   "outputs": [],
   "source": [
    "df_0 = df[df['emotional_mental_health_disorder'] == 0]\n",
    "df_1 = df[df['emotional_mental_health_disorder'] == 1]\n",
    "\n",
    "df_0_sample = df_0.sample(n=3100)\n",
    "df_1_sample = df_1.sample(n=3100)"
   ]
  },
  {
   "cell_type": "code",
   "execution_count": 648,
   "metadata": {},
   "outputs": [
    {
     "data": {
      "text/html": [
       "<div>\n",
       "<style scoped>\n",
       "    .dataframe tbody tr th:only-of-type {\n",
       "        vertical-align: middle;\n",
       "    }\n",
       "\n",
       "    .dataframe tbody tr th {\n",
       "        vertical-align: top;\n",
       "    }\n",
       "\n",
       "    .dataframe thead th {\n",
       "        text-align: right;\n",
       "    }\n",
       "</style>\n",
       "<table border=\"1\" class=\"dataframe\">\n",
       "  <thead>\n",
       "    <tr style=\"text-align: right;\">\n",
       "      <th></th>\n",
       "      <th>gender</th>\n",
       "      <th>age</th>\n",
       "      <th>education</th>\n",
       "      <th>work_status</th>\n",
       "      <th>injured_past_year</th>\n",
       "      <th>head_injury</th>\n",
       "      <th>chest_injury</th>\n",
       "      <th>back_injury</th>\n",
       "      <th>stomach_injury</th>\n",
       "      <th>upper_body_injury</th>\n",
       "      <th>...</th>\n",
       "      <th>missing_body_parts</th>\n",
       "      <th>permanent_injury</th>\n",
       "      <th>place_of_injury</th>\n",
       "      <th>emotional_mental_health_disorder</th>\n",
       "      <th>has_injury</th>\n",
       "      <th>total_injuries</th>\n",
       "      <th>weighted_injury_severity</th>\n",
       "      <th>total_injury_severity</th>\n",
       "      <th>injured_body_parts_count</th>\n",
       "      <th>severe_injuries_count</th>\n",
       "    </tr>\n",
       "  </thead>\n",
       "  <tbody>\n",
       "    <tr>\n",
       "      <th>0</th>\n",
       "      <td>1</td>\n",
       "      <td>51</td>\n",
       "      <td>3</td>\n",
       "      <td>5</td>\n",
       "      <td>1</td>\n",
       "      <td>1</td>\n",
       "      <td>2</td>\n",
       "      <td>2</td>\n",
       "      <td>1</td>\n",
       "      <td>2</td>\n",
       "      <td>...</td>\n",
       "      <td>2</td>\n",
       "      <td>2</td>\n",
       "      <td>2</td>\n",
       "      <td>1</td>\n",
       "      <td>1</td>\n",
       "      <td>16</td>\n",
       "      <td>91</td>\n",
       "      <td>28</td>\n",
       "      <td>16</td>\n",
       "      <td>12</td>\n",
       "    </tr>\n",
       "    <tr>\n",
       "      <th>1</th>\n",
       "      <td>2</td>\n",
       "      <td>67</td>\n",
       "      <td>3</td>\n",
       "      <td>1</td>\n",
       "      <td>1</td>\n",
       "      <td>2</td>\n",
       "      <td>2</td>\n",
       "      <td>1</td>\n",
       "      <td>2</td>\n",
       "      <td>2</td>\n",
       "      <td>...</td>\n",
       "      <td>2</td>\n",
       "      <td>2</td>\n",
       "      <td>2</td>\n",
       "      <td>0</td>\n",
       "      <td>1</td>\n",
       "      <td>16</td>\n",
       "      <td>98</td>\n",
       "      <td>30</td>\n",
       "      <td>16</td>\n",
       "      <td>14</td>\n",
       "    </tr>\n",
       "    <tr>\n",
       "      <th>2</th>\n",
       "      <td>1</td>\n",
       "      <td>35</td>\n",
       "      <td>4</td>\n",
       "      <td>1</td>\n",
       "      <td>1</td>\n",
       "      <td>2</td>\n",
       "      <td>2</td>\n",
       "      <td>2</td>\n",
       "      <td>2</td>\n",
       "      <td>2</td>\n",
       "      <td>...</td>\n",
       "      <td>2</td>\n",
       "      <td>2</td>\n",
       "      <td>5</td>\n",
       "      <td>0</td>\n",
       "      <td>1</td>\n",
       "      <td>16</td>\n",
       "      <td>98</td>\n",
       "      <td>30</td>\n",
       "      <td>16</td>\n",
       "      <td>14</td>\n",
       "    </tr>\n",
       "    <tr>\n",
       "      <th>3</th>\n",
       "      <td>1</td>\n",
       "      <td>35</td>\n",
       "      <td>5</td>\n",
       "      <td>8</td>\n",
       "      <td>1</td>\n",
       "      <td>2</td>\n",
       "      <td>2</td>\n",
       "      <td>2</td>\n",
       "      <td>2</td>\n",
       "      <td>1</td>\n",
       "      <td>...</td>\n",
       "      <td>2</td>\n",
       "      <td>2</td>\n",
       "      <td>2</td>\n",
       "      <td>1</td>\n",
       "      <td>1</td>\n",
       "      <td>16</td>\n",
       "      <td>97</td>\n",
       "      <td>29</td>\n",
       "      <td>16</td>\n",
       "      <td>13</td>\n",
       "    </tr>\n",
       "    <tr>\n",
       "      <th>4</th>\n",
       "      <td>2</td>\n",
       "      <td>53</td>\n",
       "      <td>1</td>\n",
       "      <td>6</td>\n",
       "      <td>1</td>\n",
       "      <td>2</td>\n",
       "      <td>2</td>\n",
       "      <td>2</td>\n",
       "      <td>2</td>\n",
       "      <td>1</td>\n",
       "      <td>...</td>\n",
       "      <td>2</td>\n",
       "      <td>2</td>\n",
       "      <td>2</td>\n",
       "      <td>0</td>\n",
       "      <td>1</td>\n",
       "      <td>16</td>\n",
       "      <td>99</td>\n",
       "      <td>30</td>\n",
       "      <td>16</td>\n",
       "      <td>14</td>\n",
       "    </tr>\n",
       "    <tr>\n",
       "      <th>...</th>\n",
       "      <td>...</td>\n",
       "      <td>...</td>\n",
       "      <td>...</td>\n",
       "      <td>...</td>\n",
       "      <td>...</td>\n",
       "      <td>...</td>\n",
       "      <td>...</td>\n",
       "      <td>...</td>\n",
       "      <td>...</td>\n",
       "      <td>...</td>\n",
       "      <td>...</td>\n",
       "      <td>...</td>\n",
       "      <td>...</td>\n",
       "      <td>...</td>\n",
       "      <td>...</td>\n",
       "      <td>...</td>\n",
       "      <td>...</td>\n",
       "      <td>...</td>\n",
       "      <td>...</td>\n",
       "      <td>...</td>\n",
       "      <td>...</td>\n",
       "    </tr>\n",
       "    <tr>\n",
       "      <th>6195</th>\n",
       "      <td>2</td>\n",
       "      <td>62</td>\n",
       "      <td>3</td>\n",
       "      <td>1</td>\n",
       "      <td>1</td>\n",
       "      <td>2</td>\n",
       "      <td>2</td>\n",
       "      <td>2</td>\n",
       "      <td>2</td>\n",
       "      <td>2</td>\n",
       "      <td>...</td>\n",
       "      <td>2</td>\n",
       "      <td>2</td>\n",
       "      <td>2</td>\n",
       "      <td>1</td>\n",
       "      <td>1</td>\n",
       "      <td>16</td>\n",
       "      <td>99</td>\n",
       "      <td>30</td>\n",
       "      <td>16</td>\n",
       "      <td>14</td>\n",
       "    </tr>\n",
       "    <tr>\n",
       "      <th>6196</th>\n",
       "      <td>2</td>\n",
       "      <td>41</td>\n",
       "      <td>5</td>\n",
       "      <td>8</td>\n",
       "      <td>1</td>\n",
       "      <td>1</td>\n",
       "      <td>2</td>\n",
       "      <td>2</td>\n",
       "      <td>2</td>\n",
       "      <td>2</td>\n",
       "      <td>...</td>\n",
       "      <td>2</td>\n",
       "      <td>2</td>\n",
       "      <td>2</td>\n",
       "      <td>1</td>\n",
       "      <td>1</td>\n",
       "      <td>16</td>\n",
       "      <td>96</td>\n",
       "      <td>30</td>\n",
       "      <td>16</td>\n",
       "      <td>14</td>\n",
       "    </tr>\n",
       "    <tr>\n",
       "      <th>6197</th>\n",
       "      <td>2</td>\n",
       "      <td>57</td>\n",
       "      <td>1</td>\n",
       "      <td>1</td>\n",
       "      <td>1</td>\n",
       "      <td>2</td>\n",
       "      <td>2</td>\n",
       "      <td>2</td>\n",
       "      <td>2</td>\n",
       "      <td>1</td>\n",
       "      <td>...</td>\n",
       "      <td>2</td>\n",
       "      <td>2</td>\n",
       "      <td>2</td>\n",
       "      <td>1</td>\n",
       "      <td>1</td>\n",
       "      <td>16</td>\n",
       "      <td>99</td>\n",
       "      <td>30</td>\n",
       "      <td>16</td>\n",
       "      <td>14</td>\n",
       "    </tr>\n",
       "    <tr>\n",
       "      <th>6198</th>\n",
       "      <td>2</td>\n",
       "      <td>38</td>\n",
       "      <td>3</td>\n",
       "      <td>1</td>\n",
       "      <td>1</td>\n",
       "      <td>2</td>\n",
       "      <td>2</td>\n",
       "      <td>1</td>\n",
       "      <td>2</td>\n",
       "      <td>2</td>\n",
       "      <td>...</td>\n",
       "      <td>2</td>\n",
       "      <td>2</td>\n",
       "      <td>2</td>\n",
       "      <td>1</td>\n",
       "      <td>1</td>\n",
       "      <td>16</td>\n",
       "      <td>95</td>\n",
       "      <td>29</td>\n",
       "      <td>16</td>\n",
       "      <td>13</td>\n",
       "    </tr>\n",
       "    <tr>\n",
       "      <th>6199</th>\n",
       "      <td>1</td>\n",
       "      <td>46</td>\n",
       "      <td>4</td>\n",
       "      <td>8</td>\n",
       "      <td>1</td>\n",
       "      <td>2</td>\n",
       "      <td>2</td>\n",
       "      <td>2</td>\n",
       "      <td>2</td>\n",
       "      <td>2</td>\n",
       "      <td>...</td>\n",
       "      <td>2</td>\n",
       "      <td>2</td>\n",
       "      <td>5</td>\n",
       "      <td>0</td>\n",
       "      <td>1</td>\n",
       "      <td>16</td>\n",
       "      <td>97</td>\n",
       "      <td>29</td>\n",
       "      <td>16</td>\n",
       "      <td>13</td>\n",
       "    </tr>\n",
       "  </tbody>\n",
       "</table>\n",
       "<p>6200 rows × 32 columns</p>\n",
       "</div>"
      ],
      "text/plain": [
       "      gender  age  education  work_status  injured_past_year  head_injury  \\\n",
       "0          1   51          3            5                  1            1   \n",
       "1          2   67          3            1                  1            2   \n",
       "2          1   35          4            1                  1            2   \n",
       "3          1   35          5            8                  1            2   \n",
       "4          2   53          1            6                  1            2   \n",
       "...      ...  ...        ...          ...                ...          ...   \n",
       "6195       2   62          3            1                  1            2   \n",
       "6196       2   41          5            8                  1            1   \n",
       "6197       2   57          1            1                  1            2   \n",
       "6198       2   38          3            1                  1            2   \n",
       "6199       1   46          4            8                  1            2   \n",
       "\n",
       "      chest_injury  back_injury  stomach_injury  upper_body_injury  ...  \\\n",
       "0                2            2               1                  2  ...   \n",
       "1                2            1               2                  2  ...   \n",
       "2                2            2               2                  2  ...   \n",
       "3                2            2               2                  1  ...   \n",
       "4                2            2               2                  1  ...   \n",
       "...            ...          ...             ...                ...  ...   \n",
       "6195             2            2               2                  2  ...   \n",
       "6196             2            2               2                  2  ...   \n",
       "6197             2            2               2                  1  ...   \n",
       "6198             2            1               2                  2  ...   \n",
       "6199             2            2               2                  2  ...   \n",
       "\n",
       "      missing_body_parts  permanent_injury  place_of_injury  \\\n",
       "0                      2                 2                2   \n",
       "1                      2                 2                2   \n",
       "2                      2                 2                5   \n",
       "3                      2                 2                2   \n",
       "4                      2                 2                2   \n",
       "...                  ...               ...              ...   \n",
       "6195                   2                 2                2   \n",
       "6196                   2                 2                2   \n",
       "6197                   2                 2                2   \n",
       "6198                   2                 2                2   \n",
       "6199                   2                 2                5   \n",
       "\n",
       "      emotional_mental_health_disorder  has_injury  total_injuries  \\\n",
       "0                                    1           1              16   \n",
       "1                                    0           1              16   \n",
       "2                                    0           1              16   \n",
       "3                                    1           1              16   \n",
       "4                                    0           1              16   \n",
       "...                                ...         ...             ...   \n",
       "6195                                 1           1              16   \n",
       "6196                                 1           1              16   \n",
       "6197                                 1           1              16   \n",
       "6198                                 1           1              16   \n",
       "6199                                 0           1              16   \n",
       "\n",
       "      weighted_injury_severity  total_injury_severity  \\\n",
       "0                           91                     28   \n",
       "1                           98                     30   \n",
       "2                           98                     30   \n",
       "3                           97                     29   \n",
       "4                           99                     30   \n",
       "...                        ...                    ...   \n",
       "6195                        99                     30   \n",
       "6196                        96                     30   \n",
       "6197                        99                     30   \n",
       "6198                        95                     29   \n",
       "6199                        97                     29   \n",
       "\n",
       "      injured_body_parts_count  severe_injuries_count  \n",
       "0                           16                     12  \n",
       "1                           16                     14  \n",
       "2                           16                     14  \n",
       "3                           16                     13  \n",
       "4                           16                     14  \n",
       "...                        ...                    ...  \n",
       "6195                        16                     14  \n",
       "6196                        16                     14  \n",
       "6197                        16                     14  \n",
       "6198                        16                     13  \n",
       "6199                        16                     13  \n",
       "\n",
       "[6200 rows x 32 columns]"
      ]
     },
     "execution_count": 648,
     "metadata": {},
     "output_type": "execute_result"
    }
   ],
   "source": [
    "df_mental = pd.concat([df_0_sample, df_1_sample])\n",
    "\n",
    "df_mental.sample(frac=1, random_state=42).reset_index(drop=True)"
   ]
  },
  {
   "cell_type": "code",
   "execution_count": 649,
   "metadata": {},
   "outputs": [
    {
     "data": {
      "text/plain": [
       "emotional_mental_health_disorder\n",
       "0    15875\n",
       "1     3694\n",
       "Name: count, dtype: int64"
      ]
     },
     "execution_count": 649,
     "metadata": {},
     "output_type": "execute_result"
    }
   ],
   "source": [
    "df['emotional_mental_health_disorder'].value_counts()"
   ]
  },
  {
   "cell_type": "code",
   "execution_count": 650,
   "metadata": {},
   "outputs": [],
   "source": [
    "X = df_mental.drop(['emotional_mental_health_disorder'], axis=1).values\n",
    "y = df_mental['emotional_mental_health_disorder'].values\n",
    "\n",
    "X_train, X_test, y_train, y_test = train_test_split(X, y, test_size=0.3, random_state=42)\n",
    "\n",
    "scaler = StandardScaler()\n",
    "X_train_scaled = scaler.fit_transform(X_train)\n",
    "X_test_scaled = scaler.transform(X_test)\n",
    "\n",
    "smote = SMOTE(random_state=42)\n",
    "X_train_resampled, y_train_resampled = smote.fit_resample(X_train_scaled, y_train)\n",
    "\n",
    "pca = PCA(n_components=0.95)\n",
    "X_train_pca = pca.fit_transform(X_train_resampled)\n",
    "X_test_pca = pca.transform(X_test_scaled)"
   ]
  },
  {
   "cell_type": "code",
   "execution_count": 651,
   "metadata": {},
   "outputs": [
    {
     "name": "stdout",
     "output_type": "stream",
     "text": [
      "RF Accuracy: 55.81\n",
      "              precision    recall  f1-score   support\n",
      "\n",
      "           0       0.57      0.54      0.56       953\n",
      "           1       0.54      0.58      0.56       907\n",
      "\n",
      "    accuracy                           0.56      1860\n",
      "   macro avg       0.56      0.56      0.56      1860\n",
      "weighted avg       0.56      0.56      0.56      1860\n",
      "\n"
     ]
    }
   ],
   "source": [
    "rf_model = RandomForestClassifier()   \n",
    "rf_model.fit(X_train_pca, y_train_resampled)\n",
    "rf_pred = rf_model.predict(X_test_pca)\n",
    "rf_acc = accuracy_score(y_test, rf_pred) * 100\n",
    "\n",
    "print(f\"RF Accuracy: {rf_acc:.2f}\")\n",
    "print(classification_report(y_test, rf_pred))"
   ]
  },
  {
   "cell_type": "code",
   "execution_count": 652,
   "metadata": {},
   "outputs": [
    {
     "name": "stderr",
     "output_type": "stream",
     "text": [
      "c:\\Users\\phili\\AppData\\Local\\Programs\\Python\\Python311\\Lib\\site-packages\\xgboost\\core.py:158: UserWarning: [13:25:15] WARNING: C:\\buildkite-agent\\builds\\buildkite-windows-cpu-autoscaling-group-i-08cbc0333d8d4aae1-1\\xgboost\\xgboost-ci-windows\\src\\learner.cc:740: \n",
      "Parameters: { \"use_label_encoder\" } are not used.\n",
      "\n",
      "  warnings.warn(smsg, UserWarning)\n"
     ]
    },
    {
     "name": "stdout",
     "output_type": "stream",
     "text": [
      "XGBoost Accuracy: 55.38%\n",
      "              precision    recall  f1-score   support\n",
      "\n",
      "           0       0.56      0.56      0.56       953\n",
      "           1       0.54      0.54      0.54       907\n",
      "\n",
      "    accuracy                           0.55      1860\n",
      "   macro avg       0.55      0.55      0.55      1860\n",
      "weighted avg       0.55      0.55      0.55      1860\n",
      "\n"
     ]
    }
   ],
   "source": [
    "xgb_model = XGBClassifier(use_label_encoder=False, eval_metric='logloss')\n",
    "xgb_model.fit(X_train_pca, y_train_resampled)\n",
    "xgb_pred = xgb_model.predict(X_test_pca)\n",
    "xgb_acc = accuracy_score(y_test, xgb_pred) * 100\n",
    "\n",
    "print(f\"XGBoost Accuracy: {xgb_acc:.2f}%\")\n",
    "print(classification_report(y_test, xgb_pred))"
   ]
  },
  {
   "cell_type": "code",
   "execution_count": 653,
   "metadata": {},
   "outputs": [
    {
     "name": "stdout",
     "output_type": "stream",
     "text": [
      "Logistic Regression Accuracy: 58.87\n",
      "              precision    recall  f1-score   support\n",
      "\n",
      "           0       0.59      0.63      0.61       953\n",
      "           1       0.58      0.55      0.56       907\n",
      "\n",
      "    accuracy                           0.59      1860\n",
      "   macro avg       0.59      0.59      0.59      1860\n",
      "weighted avg       0.59      0.59      0.59      1860\n",
      "\n"
     ]
    }
   ],
   "source": [
    "lr_model = LogisticRegression()\n",
    "lr_model.fit(X_train_pca, y_train_resampled)\n",
    "lr_pred = lr_model.predict((X_test_pca))\n",
    "lr_acc = accuracy_score(y_test, lr_pred) * 100\n",
    "\n",
    "print(f\"Logistic Regression Accuracy: {lr_acc:.2f}\")\n",
    "print(classification_report(y_test, lr_pred))"
   ]
  },
  {
   "cell_type": "code",
   "execution_count": 654,
   "metadata": {},
   "outputs": [
    {
     "name": "stdout",
     "output_type": "stream",
     "text": [
      "NN Accuracy: 56.45\n",
      "              precision    recall  f1-score   support\n",
      "\n",
      "           0       0.57      0.59      0.58       953\n",
      "           1       0.56      0.53      0.54       907\n",
      "\n",
      "    accuracy                           0.56      1860\n",
      "   macro avg       0.56      0.56      0.56      1860\n",
      "weighted avg       0.56      0.56      0.56      1860\n",
      "\n"
     ]
    },
    {
     "name": "stderr",
     "output_type": "stream",
     "text": [
      "c:\\Users\\phili\\AppData\\Local\\Programs\\Python\\Python311\\Lib\\site-packages\\sklearn\\neural_network\\_multilayer_perceptron.py:691: ConvergenceWarning: Stochastic Optimizer: Maximum iterations (200) reached and the optimization hasn't converged yet.\n",
      "  warnings.warn(\n"
     ]
    }
   ],
   "source": [
    "mlp_model = MLPClassifier()\n",
    "mlp_model.fit(X_train_pca, y_train_resampled)\n",
    "mlp_pred = mlp_model.predict(X_test_pca)\n",
    "mlp_acc = accuracy_score(y_test, mlp_pred) * 100\n",
    "\n",
    "print(f\"NN Accuracy: {mlp_acc:.2f}\")\n",
    "print(classification_report(y_test, mlp_pred))"
   ]
  },
  {
   "cell_type": "code",
   "execution_count": 655,
   "metadata": {},
   "outputs": [
    {
     "name": "stdout",
     "output_type": "stream",
     "text": [
      "SVM Accuracy: 58.28\n",
      "              precision    recall  f1-score   support\n",
      "\n",
      "           0       0.60      0.56      0.58       953\n",
      "           1       0.57      0.61      0.59       907\n",
      "\n",
      "    accuracy                           0.58      1860\n",
      "   macro avg       0.58      0.58      0.58      1860\n",
      "weighted avg       0.58      0.58      0.58      1860\n",
      "\n"
     ]
    }
   ],
   "source": [
    "svm_model = SVC()\n",
    "svm_model.fit(X_train_pca, y_train_resampled)\n",
    "svm_pred = svm_model.predict(X_test_pca)\n",
    "svm_acc = accuracy_score(y_test, svm_pred) * 100\n",
    "\n",
    "print(f\"SVM Accuracy: {svm_acc:.2f}\")\n",
    "print(classification_report(y_test, svm_pred))"
   ]
  },
  {
   "cell_type": "code",
   "execution_count": 656,
   "metadata": {},
   "outputs": [
    {
     "name": "stdout",
     "output_type": "stream",
     "text": [
      "k-NN Accuracy: 54.78\n",
      "              precision    recall  f1-score   support\n",
      "\n",
      "           0       0.56      0.55      0.55       953\n",
      "           1       0.54      0.55      0.54       907\n",
      "\n",
      "    accuracy                           0.55      1860\n",
      "   macro avg       0.55      0.55      0.55      1860\n",
      "weighted avg       0.55      0.55      0.55      1860\n",
      "\n"
     ]
    }
   ],
   "source": [
    "knn_model = KNeighborsClassifier()\n",
    "knn_model.fit(X_train_pca, y_train_resampled)\n",
    "knn_pred = knn_model.predict(X_test_pca)\n",
    "knn_acc = accuracy_score(y_test, knn_pred) * 100\n",
    "\n",
    "print(f\"k-NN Accuracy: {knn_acc:.2f}\")\n",
    "print(classification_report(y_test, knn_pred))"
   ]
  },
  {
   "cell_type": "code",
   "execution_count": 657,
   "metadata": {},
   "outputs": [
    {
     "name": "stdout",
     "output_type": "stream",
     "text": [
      "Accuracy Scores:\n",
      "Logistic Regression: 58.87\n",
      "XGBoost: 55.38\n",
      "Random Forest: 55.81\n",
      "Neural Network: 56.45\n",
      "SVM: 58.28\n",
      "k-NN: 54.78\n"
     ]
    }
   ],
   "source": [
    "print(f\"Accuracy Scores:\\nLogistic Regression: {lr_acc:.2f}\\nXGBoost: {xgb_acc:.2f}\\nRandom Forest: {rf_acc:.2f}\\nNeural Network: {mlp_acc:.2f}\\nSVM: {svm_acc:.2f}\\nk-NN: {knn_acc:.2f}\")"
   ]
  },
  {
   "cell_type": "code",
   "execution_count": 658,
   "metadata": {},
   "outputs": [],
   "source": [
    "# def pickleModel(model, filename):\n",
    "#     pickle.dump(model, open(filename, 'wb'))\n",
    "\n",
    "# pickleModel(rf_model, 'models/RF.pkl')\n",
    "# pickleModel(xgb_model, 'models/XGB.pkl')\n",
    "# pickleModel(lr_model, 'models/LR.pkl')\n",
    "# pickleModel(mlp_model, 'models/NN.pkl')\n",
    "# pickleModel(svm_model, 'models/SVM.pkl')\n",
    "# pickleModel(knn_model, 'models/KNN.pkl')"
   ]
  },
  {
   "cell_type": "code",
   "execution_count": 659,
   "metadata": {},
   "outputs": [
    {
     "data": {
      "image/png": "[encoded data removed]",
      "text/plain": [
       "<Figure size 640x480 with 2 Axes>"
      ]
     },
     "metadata": {},
     "output_type": "display_data"
    },
    {
     "data": {
      "image/png": "[encoded data removed]",
      "text/plain": [
       "<Figure size 640x480 with 2 Axes>"
      ]
     },
     "metadata": {},
     "output_type": "display_data"
    },
    {
     "data": {
      "image/png": "[encoded data removed]",
      "text/plain": [
       "<Figure size 640x480 with 2 Axes>"
      ]
     },
     "metadata": {},
     "output_type": "display_data"
    },
    {
     "data": {
      "image/png": "[encoded data removed]",
      "text/plain": [
       "<Figure size 640x480 with 2 Axes>"
      ]
     },
     "metadata": {},
     "output_type": "display_data"
    },
    {
     "data": {
      "image/png": "[encoded data removed]",
      "text/plain": [
       "<Figure size 640x480 with 2 Axes>"
      ]
     },
     "metadata": {},
     "output_type": "display_data"
    },
    {
     "data": {
      "image/png": "[encoded data removed]",
      "text/plain": [
       "<Figure size 640x480 with 2 Axes>"
      ]
     },
     "metadata": {},
     "output_type": "display_data"
    }
   ],
   "source": [
    "def plot_confusion_matrix(y_test, y_pred, model_name):\n",
    "    cm = confusion_matrix(y_test, y_pred)\n",
    "    disp = ConfusionMatrixDisplay(confusion_matrix=cm)\n",
    "    disp.plot(cmap='Blues')\n",
    "    plt.title(f\"Confusion Matrix - {model_name}\")\n",
    "    plt.show()\n",
    "\n",
    "plot_confusion_matrix(y_test, rf_pred, \"Random Forest\")\n",
    "plot_confusion_matrix(y_test, xgb_pred, \"XGBoost\")\n",
    "plot_confusion_matrix(y_test, lr_pred, \"Logistic Regression\")\n",
    "plot_confusion_matrix(y_test, mlp_pred, \"Neural Network\")\n",
    "plot_confusion_matrix(y_test, svm_pred, \"SVM\")\n",
    "plot_confusion_matrix(y_test, knn_pred, \"k-NN\")"
   ]
  },
  {
   "cell_type": "code",
   "execution_count": 660,
   "metadata": {},
   "outputs": [],
   "source": [
    "\n",
    "# top_5_features = feature_importances.nlargest(5, \"Importance\")[\"Feature\"]\n",
    "\n",
    "# fig, axes = plt.subplots(nrows=1, ncols=5, figsize=(20, 6), sharey=True)\n",
    "\n",
    "# for i, feature in enumerate(top_5_features):\n",
    "#     grouped_df = df.groupby(feature)[target_variable].value_counts(normalize=True).unstack()\n",
    "    \n",
    "#     grouped_df.plot(kind='bar', stacked=True, ax=axes[i], colormap=\"coolwarm\", alpha=0.85)\n",
    "    \n",
    "#     axes[i].set_title(feature)\n",
    "#     axes[i].set_xlabel(\"\")\n",
    "#     axes[i].set_ylabel(\"Proportion\")\n",
    "#     axes[i].legend(title=\"Emotional Mental Health Disorder\", labels=[\"0 (No)\", \"1 (Yes)\"])\n",
    "\n",
    "# plt.tight_layout()\n",
    "# plt.show()\n",
    "\n"
   ]
  }
 ],
 "metadata": {
  "kernelspec": {
   "display_name": "Python 3",
   "language": "python",
   "name": "python3"
  },
  "language_info": {
   "codemirror_mode": {
    "name": "ipython",
    "version": 3
   },
   "file_extension": ".py",
   "mimetype": "text/x-python",
   "name": "python",
   "nbconvert_exporter": "python",
   "pygments_lexer": "ipython3",
   "version": "3.11.4"
  }
 },
 "nbformat": 4,
 "nbformat_minor": 2
}
